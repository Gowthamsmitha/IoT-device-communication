{
  "nbformat": 4,
  "nbformat_minor": 0,
  "metadata": {
    "colab": {
      "provenance": []
    },
    "kernelspec": {
      "name": "python3",
      "display_name": "Python 3"
    },
    "language_info": {
      "name": "python"
    }
  },
  "cells": [
    {
      "cell_type": "code",
      "execution_count": 37,
      "metadata": {
        "colab": {
          "base_uri": "https://localhost:8080/"
        },
        "id": "oui_UmbJvPBI",
        "outputId": "d350d63b-9de4-4fd5-bc99-7885b9e7847b"
      },
      "outputs": [
        {
          "output_type": "stream",
          "name": "stdout",
          "text": [
            "Requirement already satisfied: python-dotenv in /usr/local/lib/python3.10/dist-packages (1.0.1)\n"
          ]
        }
      ],
      "source": [
        "!pip install python-dotenv"
      ]
    },
    {
      "cell_type": "code",
      "source": [
        "!pip install paho-mqtt"
      ],
      "metadata": {
        "colab": {
          "base_uri": "https://localhost:8080/"
        },
        "id": "1I__2tLlvxPN",
        "outputId": "401c5788-6fb0-48b5-a13c-1fff4f831d62"
      },
      "execution_count": 38,
      "outputs": [
        {
          "output_type": "stream",
          "name": "stdout",
          "text": [
            "Requirement already satisfied: paho-mqtt in /usr/local/lib/python3.10/dist-packages (2.1.0)\n"
          ]
        }
      ]
    },
    {
      "cell_type": "code",
      "source": [
        "load_dotenv(\"/content/secure.env\")"
      ],
      "metadata": {
        "colab": {
          "base_uri": "https://localhost:8080/"
        },
        "id": "2gBEdp8Av3qu",
        "outputId": "ffc1fab9-0795-4b09-b6f8-cc27f6e0a98f"
      },
      "execution_count": 40,
      "outputs": [
        {
          "output_type": "execute_result",
          "data": {
            "text/plain": [
              "True"
            ]
          },
          "metadata": {},
          "execution_count": 40
        }
      ]
    },
    {
      "cell_type": "code",
      "source": [
        "print(os.getenv(\"MQTT_BROKER\"))\n",
        "print(os.getenv(\"MQTT_PORT\"))\n",
        "print(os.getenv(\"MQTT_TOPIC\"))\n",
        "print(os.getenv(\"MQTT_USERNAME\"))\n",
        "print(os.getenv(\"MQTT_PASSWORD\"))\n"
      ],
      "metadata": {
        "colab": {
          "base_uri": "https://localhost:8080/"
        },
        "id": "IJDXs8K8x216",
        "outputId": "18e5e35e-2760-43a3-bb1d-00e4560afee9"
      },
      "execution_count": 41,
      "outputs": [
        {
          "output_type": "stream",
          "name": "stdout",
          "text": [
            "broker.emqx.io\n",
            "8883\n",
            "test/topic\n",
            "gowtham\n",
            "amrita123\n"
          ]
        }
      ]
    },
    {
      "cell_type": "code",
      "source": [
        "import os\n",
        "import random\n",
        "import hashlib\n",
        "import paho.mqtt.client as mqtt\n",
        "\n",
        "from dotenv import load_dotenv\n",
        "\n",
        "load_dotenv(\"/content/secure.env\")\n",
        "\n",
        "class IoTDevice:\n",
        "    def __init__(self, device_id, device_type, mqtt_client, topic, token):\n",
        "        self.device_id = device_id\n",
        "        self.device_type = device_type\n",
        "        self.mqtt_client = mqtt_client\n",
        "        self.topic = topic\n",
        "        self.token = token\n",
        "        self.authenticated = False\n",
        "\n",
        "    def authenticate(self, username, password):\n",
        "        hashed_username = hashlib.sha256(username.encode()).hexdigest()\n",
        "        hashed_password = hashlib.sha256(password.encode()).hexdigest()\n",
        "        if hashed_username == os.getenv(\"DEVICE_USERNAME_HASH\") and hashed_password == os.getenv(\"DEVICE_PASSWORD_HASH\"):\n",
        "            self.authenticated = True\n",
        "            print(f\"Device {self.device_id}: Authenticated successfully.\")\n",
        "        else:\n",
        "            print(f\"Device {self.device_id}: Authentication failed.\")\n",
        "\n",
        "    def send_message(self, message):\n",
        "        self.mqtt_client.publish(self.topic, message)\n",
        "\n",
        "class TemperatureSensor(IoTDevice):\n",
        "    def read_temperature(self):\n",
        "        return random.uniform(20.0, 25.0)  # Simulate reading temperature\n",
        "\n",
        "class LightSwitch(IoTDevice):\n",
        "    def toggle(self, state):\n",
        "        return \"on\" if state else \"off\"\n",
        "\n",
        "def on_connect(client, userdata, flags, rc):\n",
        "    if rc == 0:\n",
        "        print(\"Connected to MQTT Broker!\")\n",
        "    else:\n",
        "        print(f\"Failed to connect, return code {rc}\")\n",
        "\n",
        "def main():\n",
        "    broker = os.getenv(\"MQTT_BROKER\")\n",
        "    port = int(os.getenv(\"MQTT_PORT\"))\n",
        "    topic = os.getenv(\"MQTT_TOPIC\")\n",
        "    token = os.getenv(\"MQTT_PASSWORD\")\n",
        "\n",
        "    mqtt_client = mqtt.Client()\n",
        "    mqtt_client.on_connect = on_connect\n",
        "    mqtt_client.username_pw_set(username=os.getenv(\"MQTT_USERNAME\"), password=token)\n",
        "    mqtt_client.connect(broker, port)\n",
        "    mqtt_client.loop_start()\n",
        "\n",
        "    temp_sensor = TemperatureSensor(\"sensor1\", \"temperature\", mqtt_client, topic, token)\n",
        "    light_switch = LightSwitch(\"switch1\", \"light\", mqtt_client, topic, token)\n",
        "\n",
        "    authenticated = False\n",
        "    while not authenticated:\n",
        "        username = input(\"Enter username: \")\n",
        "        password = input(\"Enter password: \")\n",
        "        temp_sensor.authenticate(username, password)\n",
        "        light_switch.authenticate(username, password)\n",
        "        authenticated = temp_sensor.authenticated and light_switch.authenticated\n",
        "\n",
        "    while True:\n",
        "        print(\"\\n1. Read Temperature\\n2. Toggle Light\\n3. Exit\")\n",
        "        choice = input(\"Enter your choice: \")\n",
        "\n",
        "        if choice == '1':\n",
        "            temperature = temp_sensor.read_temperature()\n",
        "            temp_sensor.send_message(f\"Temperature: {temperature}°C\")\n",
        "        elif choice == '2':\n",
        "            state = input(\"Enter state (on/off): \").strip().lower() == 'on'\n",
        "            status = light_switch.toggle(state)\n",
        "            light_switch.send_message(f\"Light is {status}\")\n",
        "        elif choice == '3':\n",
        "            break\n",
        "        else:\n",
        "            print(\"Invalid choice. Please try again.\")\n",
        "\n",
        "if __name__ == \"__main__\":\n",
        "    main()\n"
      ],
      "metadata": {
        "colab": {
          "base_uri": "https://localhost:8080/"
        },
        "id": "WuesoiuRyqXE",
        "outputId": "ee8c1ab5-6fe6-413d-c5ec-a44f51c0cbf3"
      },
      "execution_count": 48,
      "outputs": [
        {
          "output_type": "stream",
          "name": "stderr",
          "text": [
            "<ipython-input-48-8ffebcab74f3>:51: DeprecationWarning: Callback API version 1 is deprecated, update to latest version\n",
            "  mqtt_client = mqtt.Client()\n"
          ]
        },
        {
          "name": "stdout",
          "output_type": "stream",
          "text": [
            "Enter username: gowtham\n",
            "Enter password: amrita123\n",
            "Device sensor1: Authenticated successfully.\n",
            "Device switch1: Authenticated successfully.\n",
            "\n",
            "1. Read Temperature\n",
            "2. Toggle Light\n",
            "3. Exit\n",
            "Enter your choice: 3\n"
          ]
        }
      ]
    }
  ]
}